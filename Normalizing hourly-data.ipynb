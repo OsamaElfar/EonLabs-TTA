{
  "nbformat": 4,
  "nbformat_minor": 0,
  "metadata": {
    "colab": {
      "provenance": [],
      "collapsed_sections": []
    },
    "kernelspec": {
      "name": "python3",
      "display_name": "Python 3"
    },
    "language_info": {
      "name": "python"
    }
  },
  "cells": [
    {
      "cell_type": "markdown",
      "source": [
        "# ML Researcher TTA from EonLabs\n",
        "This is a problem solution for EonLabs Take-home Tech Assessment (TTA).\n",
        "\n",
        "Author: Osama Elfar.\n",
        "\n",
        "Date: September 9, 2022."
      ],
      "metadata": {
        "id": "P1XFNszdPiAY"
      }
    },
    {
      "cell_type": "code",
      "execution_count": 1,
      "metadata": {
        "colab": {
          "base_uri": "https://localhost:8080/"
        },
        "id": "etjydHKlQgk3",
        "outputId": "f562fb1d-044f-404a-b04c-ac789bf117b7"
      },
      "outputs": [
        {
          "output_type": "stream",
          "name": "stdout",
          "text": [
            "Mounted at /content/gdrive\n"
          ]
        }
      ],
      "source": [
        "import pandas as pd\n",
        "import matplotlib.pyplot as plt\n",
        "\n",
        "\n",
        "# import drive from google.colab to read datasets\n",
        "from google.colab import drive \n",
        "drive.mount('/content/gdrive')"
      ]
    },
    {
      "cell_type": "code",
      "source": [
        "hourly = pd.read_csv('/content/gdrive/MyDrive/Colab Notebooks/Data/hourly_data.csv')\n",
        "weekly = pd.read_csv('/content/gdrive/MyDrive/Colab Notebooks/Data/weekly_data.csv')\n",
        "monthly = pd.read_csv('/content/gdrive/MyDrive/Colab Notebooks/Data/monthly_data.csv')"
      ],
      "metadata": {
        "id": "KXcBW7yBQqfs"
      },
      "execution_count": 20,
      "outputs": []
    },
    {
      "cell_type": "markdown",
      "source": [
        "## Methodology\n",
        "As the hourly data values are normalized seperatley for each week, the weekly data values will be used as weights for hourly values. i. e., each weekly value is a weight for its corresponding hourly values in the same week. By multiplying weekly weights to corresponding hourly values, the hourly values become yearly normalized.\n",
        "\n",
        "In the same way, the monthly data will be used then as weights for hourly values to normalize it for the whole duration. However, we should firstly normalize hourly values for each month and then multiply monthly weights to corresponding hourly values in each month. And hence, the hourly values become normalized for the whole duration."
      ],
      "metadata": {
        "id": "RmVVz-E7SZfM"
      }
    },
    {
      "cell_type": "code",
      "source": [
        "# Convert date to datetime format\n",
        "hourly['date'] = pd.to_datetime(hourly['date'], format = \"%Y-%m-%d %H:%M:%S\")\n",
        "weekly['date'] = pd.to_datetime(weekly['date'], format = \"%Y-%m-%d %H:%M:%S\")\n",
        "monthly['date'] = pd.to_datetime(monthly['date'], format = \"%Y-%m-%d %H:%M:%S\")"
      ],
      "metadata": {
        "id": "gQ6ukE__SlwE"
      },
      "execution_count": 29,
      "outputs": []
    },
    {
      "cell_type": "code",
      "source": [
        "# Dropout August month from the data as it is not complet for whole 3 datasets\n",
        "hourly = hourly.loc[hourly['date'] < '2022-08-01']\n",
        "weekly = weekly.loc[weekly['date'] < '2022-08-01']\n",
        "monthly = monthly.loc[monthly['date'] < '2022-08-01']"
      ],
      "metadata": {
        "id": "S_B-aWLuQ2iD"
      },
      "execution_count": 33,
      "outputs": []
    },
    {
      "cell_type": "markdown",
      "source": [
        "Iterate for each week in weekly data and multiply its value to the corresponding hourly values."
      ],
      "metadata": {
        "id": "6oPzhtnaloni"
      }
    },
    {
      "cell_type": "code",
      "source": [
        "#iterate for each week in weekly data and multiply its value to corresponding hourly values\n",
        "start = weekly['date'][0]\n",
        "\n",
        "for End in weekly['date']:\n",
        "  if start != End:\n",
        "    vweek = weekly.loc[weekly['date']==start].value_week.item()\n",
        "    \n",
        "    # multiply the week weight to the corresponding hourly values in the same week\n",
        "    mask = (hourly['date'] >= start) & (hourly['date'] < End)\n",
        "    hourly.loc[mask,'value_hour'] *= (vweek/100)\n",
        "\n",
        "    \n",
        "  start = End\n",
        "\n",
        "# Last week\n",
        "vweek = weekly.loc[weekly['date']==start].value_week.item()\n",
        "mask = hourly['date'] >= start\n",
        "hourly.loc[mask,'value_hour'] *= (vweek/100)"
      ],
      "metadata": {
        "id": "g2MBPeqCdCBJ"
      },
      "execution_count": 37,
      "outputs": []
    },
    {
      "cell_type": "markdown",
      "source": [
        "Iterate for each month in monthly data and multiply its value to the corresponding hourly values after normalizing them for each month."
      ],
      "metadata": {
        "id": "i6oNt_1rlyPf"
      }
    },
    {
      "cell_type": "code",
      "source": [
        "#iterate for each month in monthly data and multiply its value to corresponding hourly values\n",
        "start = monthly['date'][0]\n",
        "\n",
        "for End in monthly['date']:\n",
        "  if start != End:\n",
        "    vmonth = monthly.loc[monthly['date']==start].value_month.item()\n",
        "\n",
        "    # multiply the month weight to the corresponding hourly values after normalizing them for each month.\n",
        "    mask = (hourly['date'] >= start) & (hourly['date'] < End)\n",
        "    maximum_value = hourly.loc[mask,'value_hour'].max()\n",
        "    hourly.loc[mask,'value_hour'] *= ((vmonth/100)*(100/maximum_value))\n",
        "\n",
        "    # print(start)\n",
        "    # print(vmonth)\n",
        "  start = End\n",
        "\n",
        "# Last Month\n",
        "vmonth = monthly.loc[monthly['date']==start].value_month.item()\n",
        "mask = hourly['date'] >= start\n",
        "hourly.loc[mask,'value_hour'] *= ((vmonth/100)*(100/maximum_value))"
      ],
      "metadata": {
        "id": "xLN3s3iCaT_h"
      },
      "execution_count": 38,
      "outputs": []
    },
    {
      "cell_type": "markdown",
      "source": [
        "As we see in the following chart that the hourly values became comparable during the years."
      ],
      "metadata": {
        "id": "FJxf-aPDne8w"
      }
    },
    {
      "cell_type": "code",
      "source": [
        "plt.plot_date(hourly['date'], hourly['value_hour'], '-')\n",
        "plt.show()"
      ],
      "metadata": {
        "colab": {
          "base_uri": "https://localhost:8080/",
          "height": 265
        },
        "id": "UXLOVmR1mzIW",
        "outputId": "3dfac4a7-0cb3-48b7-853c-52d0c6aada89"
      },
      "execution_count": 39,
      "outputs": [
        {
          "output_type": "display_data",
          "data": {
            "text/plain": [
              "<Figure size 432x288 with 1 Axes>"
            ],
            "image/png": "[encoded data removed]"
          },
          "metadata": {
            "needs_background": "light"
          }
        }
      ]
    }
  ]
}